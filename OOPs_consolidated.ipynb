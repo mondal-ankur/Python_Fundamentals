{
 "cells": [
  {
   "cell_type": "markdown",
   "metadata": {},
   "source": [
    "# Class Object\n",
    "\n",
    "### Four Fundamental concepts of OOPs\n",
    "1. Encapsulation\n",
    "2. Abstraction\n",
    "3. Inheritance\n",
    "4. Polymorphism"
   ]
  },
  {
   "cell_type": "markdown",
   "metadata": {},
   "source": [
    "### Class\n",
    "- A Python class is a blueprint or template for creating objects.\n",
    "- allows you to define attributes (variables) and methods (functions) that represent the properties and behaviors of the object"
   ]
  },
  {
   "cell_type": "code",
   "execution_count": 10,
   "metadata": {},
   "outputs": [],
   "source": [
    "class Car:\n",
    "    # constructor\n",
    "    def __init__(self, color, brand,  model):\n",
    "        self.color = color\n",
    "        self.model = model\n",
    "        self.brand = brand\n",
    "\n",
    "    # Method to display car details\n",
    "    def details(self):\n",
    "        print(f'Car model - {self.model}')\n",
    "        print(f'Car colour  - {self.color}')\n",
    "        print(f'Car brand - {self.brand}')"
   ]
  },
  {
   "cell_type": "markdown",
   "metadata": {},
   "source": [
    "- **Attributes**: The class `Car` has four attributes that describe its state: `color`, `brand`, `model`.\n",
    "- **Constructor**: The constructor `__init__(self, color, brand, model)` initializes new objects of the class.\n",
    "- **Methods**: The `display_info` method is responsible for showcasing the car details."
   ]
  },
  {
   "cell_type": "markdown",
   "metadata": {},
   "source": [
    "### What is an Object?\n",
    "\n",
    "An object is an instance of a class. When you create an object, you are bringing the blueprint of the class into reality. It consists of state and behavior defined by the class, with each object holding its own copy of the data."
   ]
  },
  {
   "cell_type": "code",
   "execution_count": 11,
   "metadata": {},
   "outputs": [
    {
     "name": "stdout",
     "output_type": "stream",
     "text": [
      "Car model - Corolla\n",
      "Car colour  - Red\n",
      "Car brand - Toyota\n",
      "-----------------\n",
      "Car model - Mustang\n",
      "Car colour  - Blue\n",
      "Car brand - Ford\n"
     ]
    }
   ],
   "source": [
    "# Create object from Car class\n",
    "car1 = Car(\"Red\", \"Toyota\", \"Corolla\")\n",
    "car2 = Car(\"Blue\", \"Ford\", \"Mustang\")\n",
    "\n",
    "car1.details()\n",
    "print(\"-----------------\")\n",
    "car2.details()"
   ]
  },
  {
   "cell_type": "markdown",
   "metadata": {},
   "source": [
    "Initialization: The constructor (Car) initializes the object state with given parameters."
   ]
  },
  {
   "cell_type": "markdown",
   "metadata": {},
   "source": []
  },
  {
   "cell_type": "markdown",
   "metadata": {},
   "source": [
    "# ENCAPSULATION\n",
    "refers to the practice of wrapping data (variables) and methods (functions) into a single unit (class) while restricting direct access to some of the object's attributes.\n",
    "\n",
    "**Benefit:**\n",
    "- Public variables: Accessible from outside the class.\n",
    "- Protected variables: Prefixed with a single underscore _ and meant for internal use."
   ]
  },
  {
   "cell_type": "markdown",
   "metadata": {},
   "source": [
    "### 1. Using Public and Private variable/method\n",
    "\n",
    "*   **Public variables:** Accessible from outside the class.\n",
    "*   **Protected variables:** Prefixed with a single underscore `_` and meant for internal use. (This is a Python convention, not a language-enforced syntax.)\n",
    "*   **Private variables:** Prefixed with double underscores `__` and cannot be accessed directly outside the class.\n"
   ]
  },
  {
   "cell_type": "code",
   "execution_count": null,
   "metadata": {},
   "outputs": [],
   "source": [
    "class PaymentProcess:\n",
    "    def __init__(self, \n",
    "                 mode = None, # mode of payment\n",
    "                 balance = 0, # accout balance\n",
    "                 type = None #  type of transaction\n",
    "                 ):\n",
    "        self.mode = mode # public variable\n",
    "        self.__balance = balance # private variable\n",
    "        self._type = type # protected variable\n",
    "\n",
    "    # PRIVATE FUNCTION\n",
    "    def __mask_card(self, card):\n",
    "        self.__card = \"**** **** **** \"+card[-4:]\n",
    "    \n",
    "    def make_payment(self, mode, amount, type, card= None):\n",
    "        self._amount = amount\n",
    "        self.mode = mode\n",
    "        self._type = type\n",
    "        if card:\n",
    "            self.__mask_card(card)\n",
    "            print('Your card has been masked')\n",
    "        \n",
    "        if type == 'credit':\n",
    "            self.__balance += amount\n",
    "            print(f'{amount}/- has been successfully credited')\n",
    "        elif type == 'debit' and amount>self.__balance:\n",
    "            print('Insufficient balance')\n",
    "        else:\n",
    "            self.__balance -= amount\n",
    "            print(f'{amount}/- has been successfully debited')\n"
   ]
  },
  {
   "cell_type": "code",
   "execution_count": 7,
   "metadata": {},
   "outputs": [
    {
     "name": "stdout",
     "output_type": "stream",
     "text": [
      "Your card has been masked\n",
      "1000/- has been successfully debited\n"
     ]
    }
   ],
   "source": [
    "pay =  PaymentProcess(balance=10000)\n",
    "pay.make_payment('Crdit Card', 1000, 'debit', '4569523654123658')"
   ]
  },
  {
   "cell_type": "code",
   "execution_count": 8,
   "metadata": {},
   "outputs": [
    {
     "ename": "AttributeError",
     "evalue": "'PaymentProcess' object has no attribute '__mask_card'",
     "output_type": "error",
     "traceback": [
      "\u001b[31m---------------------------------------------------------------------------\u001b[39m",
      "\u001b[31mAttributeError\u001b[39m                            Traceback (most recent call last)",
      "\u001b[36mCell\u001b[39m\u001b[36m \u001b[39m\u001b[32mIn[8]\u001b[39m\u001b[32m, line 1\u001b[39m\n\u001b[32m----> \u001b[39m\u001b[32m1\u001b[39m \u001b[43mpay\u001b[49m\u001b[43m.\u001b[49m\u001b[43m__mask_card\u001b[49m(\u001b[33m'\u001b[39m\u001b[33m4569523654123658\u001b[39m\u001b[33m'\u001b[39m)\n",
      "\u001b[31mAttributeError\u001b[39m: 'PaymentProcess' object has no attribute '__mask_card'"
     ]
    }
   ],
   "source": [
    "pay.__mask_card('4569523654123658')"
   ]
  },
  {
   "cell_type": "markdown",
   "metadata": {},
   "source": [
    "Error - as ```__mask_card``` function is not accessable outside function."
   ]
  },
  {
   "cell_type": "code",
   "execution_count": 11,
   "metadata": {},
   "outputs": [
    {
     "ename": "AttributeError",
     "evalue": "'PaymentProcess' object has no attribute '__balance'",
     "output_type": "error",
     "traceback": [
      "\u001b[31m---------------------------------------------------------------------------\u001b[39m",
      "\u001b[31mAttributeError\u001b[39m                            Traceback (most recent call last)",
      "\u001b[36mCell\u001b[39m\u001b[36m \u001b[39m\u001b[32mIn[11]\u001b[39m\u001b[32m, line 1\u001b[39m\n\u001b[32m----> \u001b[39m\u001b[32m1\u001b[39m \u001b[43mpay\u001b[49m\u001b[43m.\u001b[49m\u001b[43m__balance\u001b[49m\n",
      "\u001b[31mAttributeError\u001b[39m: 'PaymentProcess' object has no attribute '__balance'"
     ]
    }
   ],
   "source": [
    "pay.__balance"
   ]
  },
  {
   "cell_type": "markdown",
   "metadata": {},
   "source": [
    "Error - ```__balance``` is a private variable, not accessable  "
   ]
  },
  {
   "cell_type": "code",
   "execution_count": 12,
   "metadata": {},
   "outputs": [
    {
     "data": {
      "text/plain": [
       "'debit'"
      ]
     },
     "execution_count": 12,
     "metadata": {},
     "output_type": "execute_result"
    }
   ],
   "source": [
    "pay._type"
   ]
  },
  {
   "cell_type": "markdown",
   "metadata": {},
   "source": [
    "```_type``` is accessable outside the class, as it is just a convension. "
   ]
  },
  {
   "cell_type": "markdown",
   "metadata": {},
   "source": [
    "### 2. Using ```Getter``` and ```Setter``` function\n",
    "**Getters:** Retrieve the value of a private attribute/method. <br>\n",
    "**Setters:** Update the value of a private attribute/method."
   ]
  },
  {
   "cell_type": "code",
   "execution_count": 38,
   "metadata": {},
   "outputs": [],
   "source": [
    "class PaymentProcess:\n",
    "    def __init__(self, \n",
    "                 mode = None, # mode of payment\n",
    "                 balance = 0, # accout balance\n",
    "                 type = None #  type of transaction\n",
    "                 ):\n",
    "        self.mode = mode # public variable\n",
    "        self.__balance = balance # private variable\n",
    "        self._type = type # protected variable\n",
    "\n",
    "    # SETTER FUNCTION - PUBLIC\n",
    "    def mask_card(self, card):\n",
    "        self.__card = \"**** **** **** \"+card[-4:]\n",
    "        print(f'Your card {self.__card} has been masked successfully.')\n",
    "\n",
    "    \n",
    "    # GETTER FUNCTION\n",
    "    def get_current_balance(self):\n",
    "        print(f'Your current balance is Rs. {self.__balance}')\n",
    "\n",
    "    # SETTER FUNCTION - PRIVATE\n",
    "    def __update_balance(self):\n",
    "        if self._type == 'credit':\n",
    "            self.__balance += self.__amount\n",
    "            print(f'{self.__amount}/- has been successfully credited')\n",
    "\n",
    "        elif self._type =='debit':\n",
    "            self.__balance -= self.__amount\n",
    "            print(f'{self.__amount}/- has been successfully debited')\n",
    "\n",
    "\n",
    "    def make_payment(self, mode, amount, type, card= None):\n",
    "        self.__amount = amount\n",
    "        self.mode = mode\n",
    "        self._type = type\n",
    "        if card:\n",
    "            self.mask_card(card)\n",
    "        \n",
    "        if type == 'debit' and amount>self.__balance:\n",
    "            print('Insufficient balance')\n",
    "        else:\n",
    "            self.__update_balance()\n",
    "            self.get_current_balance()\n",
    "            \n"
   ]
  },
  {
   "cell_type": "code",
   "execution_count": 39,
   "metadata": {},
   "outputs": [
    {
     "name": "stdout",
     "output_type": "stream",
     "text": [
      "Your card **** **** **** 3658 has been masked successfully.\n",
      "1000/- has been successfully debited\n",
      "Your current balance is Rs. 9000\n"
     ]
    }
   ],
   "source": [
    "pay =  PaymentProcess(balance=10000)\n",
    "pay.make_payment('Crdit Card', 1000, 'debit', '4569523654123658')"
   ]
  },
  {
   "cell_type": "code",
   "execution_count": 29,
   "metadata": {},
   "outputs": [
    {
     "name": "stdout",
     "output_type": "stream",
     "text": [
      "Your current balance is Rs. 9000\n"
     ]
    }
   ],
   "source": [
    "pay.get_current_balance()"
   ]
  },
  {
   "cell_type": "markdown",
   "metadata": {},
   "source": [
    "```__balance``` is only accessable using ```get_current_blanace``` getter function."
   ]
  },
  {
   "cell_type": "code",
   "execution_count": 31,
   "metadata": {},
   "outputs": [
    {
     "ename": "AttributeError",
     "evalue": "'PaymentProcess' object has no attribute '__balance'",
     "output_type": "error",
     "traceback": [
      "\u001b[31m---------------------------------------------------------------------------\u001b[39m",
      "\u001b[31mAttributeError\u001b[39m                            Traceback (most recent call last)",
      "\u001b[36mCell\u001b[39m\u001b[36m \u001b[39m\u001b[32mIn[31]\u001b[39m\u001b[32m, line 1\u001b[39m\n\u001b[32m----> \u001b[39m\u001b[32m1\u001b[39m \u001b[43mpay\u001b[49m\u001b[43m.\u001b[49m\u001b[43m__balance\u001b[49m\n\u001b[32m      2\u001b[39m \u001b[38;5;66;03m# is not accessable outside the class\u001b[39;00m\n",
      "\u001b[31mAttributeError\u001b[39m: 'PaymentProcess' object has no attribute '__balance'"
     ]
    }
   ],
   "source": [
    "pay.__balance\n",
    "# is not accessable outside the class"
   ]
  },
  {
   "cell_type": "markdown",
   "metadata": {},
   "source": []
  },
  {
   "cell_type": "code",
   "execution_count": 42,
   "metadata": {},
   "outputs": [
    {
     "ename": "AttributeError",
     "evalue": "'PaymentProcess' object has no attribute '__card'",
     "output_type": "error",
     "traceback": [
      "\u001b[31m---------------------------------------------------------------------------\u001b[39m",
      "\u001b[31mAttributeError\u001b[39m                            Traceback (most recent call last)",
      "\u001b[36mCell\u001b[39m\u001b[36m \u001b[39m\u001b[32mIn[42]\u001b[39m\u001b[32m, line 3\u001b[39m\n\u001b[32m      1\u001b[39m \u001b[38;5;66;03m# Similarly __card is also not accessable outside, \u001b[39;00m\n\u001b[32m      2\u001b[39m \u001b[38;5;66;03m# so not updatable as well\u001b[39;00m\n\u001b[32m----> \u001b[39m\u001b[32m3\u001b[39m \u001b[43mpay\u001b[49m\u001b[43m.\u001b[49m\u001b[43m__card\u001b[49m\n",
      "\u001b[31mAttributeError\u001b[39m: 'PaymentProcess' object has no attribute '__card'"
     ]
    }
   ],
   "source": [
    "# Similarly __card is also not accessable outside, \n",
    "# so not updatable as well\n",
    "pay.__card"
   ]
  },
  {
   "cell_type": "code",
   "execution_count": 40,
   "metadata": {},
   "outputs": [
    {
     "name": "stdout",
     "output_type": "stream",
     "text": [
      "Your card **** **** **** 3215 has been masked successfully.\n"
     ]
    }
   ],
   "source": [
    "pay.mask_card('1536854236963215')"
   ]
  },
  {
   "cell_type": "markdown",
   "metadata": {},
   "source": [
    "Only way to update card number ```__card``` is using ```mask_card``` function. <br>\n",
    "\n",
    "Similarly, to update balance ```__update_balance``` is the only possible way.\n",
    "- But,  ```__update_balance``` is also a private method. \n",
    "- So, balance will be updated when you ```make_payment```.\n"
   ]
  },
  {
   "cell_type": "markdown",
   "metadata": {},
   "source": [
    "### Name Mangling\n",
    "```_ClassName__VariableName```\n",
    "\n",
    " allows access to private attributes by modifying the variable name. <br>\n",
    " **However, this is not recommended and should be avoided in practice.**"
   ]
  },
  {
   "cell_type": "code",
   "execution_count": 46,
   "metadata": {},
   "outputs": [
    {
     "data": {
      "text/plain": [
       "9000"
      ]
     },
     "execution_count": 46,
     "metadata": {},
     "output_type": "execute_result"
    }
   ],
   "source": [
    "pay._PaymentProcess__balance"
   ]
  },
  {
   "cell_type": "markdown",
   "metadata": {},
   "source": [
    "This enables user to access private variable ```__balance``` outside the function "
   ]
  },
  {
   "cell_type": "markdown",
   "metadata": {},
   "source": [
    "# ABSTRACTION\n",
    "- defines a common interface for similar classes.\n",
    "- allow changes in the implementation without affecting external code.\n",
    "\n",
    "#### Abstraction can be achieved using, **Abstract Bases Classes**(ABC),\n",
    "- **Cannot be instantiated** (you cannot create objects from it).\n",
    "- Acts as a **blueprint for other classes**.\n",
    "- Defines **abstract methods** that must be implemented by any concrete class inheriting from it.\n",
    "\n",
    "**Same as INTERFACE**\n"
   ]
  },
  {
   "cell_type": "markdown",
   "metadata": {},
   "source": [
    "**Differences Between Abstract Property and Abstract Attribute**\n",
    "\n",
    "| **Feature**         | **Abstract Property**                          | **Abstract Attribute**                        |\n",
    "|----------------------|-----------------------------------------------|------------------------------------------------|\n",
    "| **Definition**       | Defined using `@property` and `@abstractmethod`. | Defined as a variable in the constructor.      |\n",
    "| **Usage**            | Accessed as an attribute but behaves like a method. | A regular attribute/variable.                   |\n",
    "| **Purpose**          | Represents a **read-only property** that must be implemented in subclasses. | Represents a **variable placeholder** that subclasses must define. |\n",
    "| **Syntax**           | Defined with `@property` decorator.               | Defined in `__init__()` method.                |\n",
    "| **Enforcement**      | Forces subclasses to define the property.         | Forces subclasses to assign a value to the attribute. |\n"
   ]
  },
  {
   "cell_type": "code",
   "execution_count": 66,
   "metadata": {},
   "outputs": [],
   "source": [
    "from abc import ABC, abstractmethod\n",
    "\n",
    "\n",
    "# Abstract Base Class\n",
    "class Car(ABC):\n",
    "\n",
    "\n",
    "    def __init__(self, max_speed):\n",
    "        self.max_speed = max_speed\n",
    "\n",
    "    @property\n",
    "    @abstractmethod\n",
    "    def fuel_type(self):\n",
    "        \"\"\"Abstract variable that must be defined in subclasses\"\"\"\n",
    "        pass\n",
    "\n",
    "    @abstractmethod\n",
    "    def start(self):\n",
    "        '''\n",
    "        This abstract funtion starts the car\n",
    "        '''\n",
    "        print('abstract function')\n",
    "        pass\n",
    "\n",
    "    @abstractmethod\n",
    "    def stop(self):\n",
    "        pass\n",
    "\n",
    "    @abstractmethod\n",
    "    def drive(self):\n",
    "        pass\n",
    "\n",
    "\n",
    "# Concrete Class: ElectricCar\n",
    "class ElectricCar(Car):\n",
    "\n",
    "    def __init__(self, max_speed=150):\n",
    "        super().__init__(max_speed)\n",
    "\n",
    "    @property\n",
    "    def fuel_type(self):\n",
    "        \n",
    "        '''\n",
    "        Abstract Read only variable. - electric car\n",
    "        '''\n",
    "        return \"Electric\"\n",
    "\n",
    "    def start(self):\n",
    "        print(f\"{self.fuel_type} Car: Battery activated, car started! (Max Speed: {self.max_speed} km/h)\")\n",
    "\n",
    "    def stop(self):\n",
    "        print(f\"{self.fuel_type} Car: Battery deactivated, car stopped!\")\n",
    "\n",
    "    def drive(self):\n",
    "        print(f\"{self.fuel_type} Car: Driving smoothly at {self.max_speed} km/h.\")\n",
    "\n",
    "\n",
    "# Concrete Class: PetrolCar\n",
    "class PetrolCar(Car):\n",
    "\n",
    "    def __init__(self, max_speed=220):\n",
    "        super().__init__(max_speed)\n",
    "\n",
    "    @property\n",
    "    def fuel_type(self):\n",
    "        return \"Petrol\"\n",
    "\n",
    "    def start(self):\n",
    "        print(f\"{self.fuel_type} Car: Ignition started, engine running! (Max Speed: {self.max_speed} km/h)\")\n",
    "\n",
    "    def stop(self):\n",
    "        print(f\"{self.fuel_type} Car: Engine stopped!\")\n",
    "\n",
    "    def drive(self):\n",
    "        print(f\"{self.fuel_type} Car: Driving with fuel combustion at {self.max_speed} km/h.\")\n",
    "\n"
   ]
  },
  {
   "cell_type": "code",
   "execution_count": 59,
   "metadata": {},
   "outputs": [
    {
     "name": "stdout",
     "output_type": "stream",
     "text": [
      "Help on class Car in module __main__:\n",
      "\n",
      "class Car(abc.ABC)\n",
      " |  Car(max_speed)\n",
      " |\n",
      " |  Method resolution order:\n",
      " |      Car\n",
      " |      abc.ABC\n",
      " |      builtins.object\n",
      " |\n",
      " |  Methods defined here:\n",
      " |\n",
      " |  __init__(self, max_speed)\n",
      " |      Initialize self.  See help(type(self)) for accurate signature.\n",
      " |\n",
      " |  drive(self)\n",
      " |\n",
      " |  start(self)\n",
      " |      This abstract funtion starts the car\n",
      " |\n",
      " |  stop(self)\n",
      " |\n",
      " |  ----------------------------------------------------------------------\n",
      " |  Readonly properties defined here:\n",
      " |\n",
      " |  fuel_type\n",
      " |      Abstract variable that must be defined in subclasses\n",
      " |\n",
      " |  ----------------------------------------------------------------------\n",
      " |  Data descriptors defined here:\n",
      " |\n",
      " |  __dict__\n",
      " |      dictionary for instance variables\n",
      " |\n",
      " |  __weakref__\n",
      " |      list of weak references to the object\n",
      " |\n",
      " |  ----------------------------------------------------------------------\n",
      " |  Data and other attributes defined here:\n",
      " |\n",
      " |  __abstractmethods__ = frozenset({'drive', 'fuel_type', 'start', 'stop'...\n",
      "\n"
     ]
    }
   ],
   "source": [
    "help(Car)"
   ]
  },
  {
   "cell_type": "code",
   "execution_count": 67,
   "metadata": {},
   "outputs": [],
   "source": [
    "car1 = ElectricCar(max_speed=160)\n",
    "car2 = PetrolCar(max_speed=240)"
   ]
  },
  {
   "cell_type": "code",
   "execution_count": 64,
   "metadata": {},
   "outputs": [
    {
     "name": "stdout",
     "output_type": "stream",
     "text": [
      "\n",
      "Car Information:\n",
      "Car 1: Electric - Max Speed: 160 km/h\n",
      "Car 2: Petrol - Max Speed: 240 km/h\n"
     ]
    }
   ],
   "source": [
    "# Displaying fuel type and max speed\n",
    "print(\"\\nCar Information:\")\n",
    "print(f\"Car 1: {car1.fuel_type} - Max Speed: {car1.max_speed} km/h\")\n",
    "print(f\"Car 2: {car2.fuel_type} - Max Speed: {car2.max_speed} km/h\")\n"
   ]
  },
  {
   "cell_type": "markdown",
   "metadata": {},
   "source": [
    "Note: Both ```fuel_type``` and ```max_speed``` are accessed like attribute."
   ]
  },
  {
   "cell_type": "code",
   "execution_count": 68,
   "metadata": {},
   "outputs": [
    {
     "name": "stdout",
     "output_type": "stream",
     "text": [
      "\n",
      "Electric Car Operations:\n",
      "Electric Car: Battery activated, car started! (Max Speed: 160 km/h)\n",
      "Electric Car: Driving smoothly at 160 km/h.\n",
      "Electric Car: Battery deactivated, car stopped!\n",
      "\n",
      "Petrol Car Operations:\n",
      "Petrol Car: Ignition started, engine running! (Max Speed: 240 km/h)\n",
      "Petrol Car: Driving with fuel combustion at 240 km/h.\n",
      "Petrol Car: Engine stopped!\n"
     ]
    }
   ],
   "source": [
    "# Car Operations\n",
    "print(\"\\nElectric Car Operations:\")\n",
    "car1.start()\n",
    "car1.drive()\n",
    "car1.stop()\n",
    "\n",
    "print(\"\\nPetrol Car Operations:\")\n",
    "car2.start()\n",
    "car2.drive()\n",
    "car2.stop()\n"
   ]
  },
  {
   "cell_type": "markdown",
   "metadata": {},
   "source": [
    "Here, \n",
    "- Even if we change any internal logic of any method ```start```, ```drive```, ```stop``` in any of ```PetrolCar``` or ```ElectricCar```, method call remain same.\n",
    "- Hence *change is logic* will not affect overall code.\n",
    "---\n",
    "This is more like way to standardize similar class "
   ]
  },
  {
   "cell_type": "code",
   "execution_count": 63,
   "metadata": {},
   "outputs": [
    {
     "ename": "TypeError",
     "evalue": "Can't instantiate abstract class DemoCar without an implementation for abstract method 'start'",
     "output_type": "error",
     "traceback": [
      "\u001b[31m---------------------------------------------------------------------------\u001b[39m",
      "\u001b[31mTypeError\u001b[39m                                 Traceback (most recent call last)",
      "\u001b[36mCell\u001b[39m\u001b[36m \u001b[39m\u001b[32mIn[63]\u001b[39m\u001b[32m, line 21\u001b[39m\n\u001b[32m     17\u001b[39m     \u001b[38;5;28;01mdef\u001b[39;00m\u001b[38;5;250m \u001b[39m\u001b[34mdrive\u001b[39m(\u001b[38;5;28mself\u001b[39m):\n\u001b[32m     18\u001b[39m         \u001b[38;5;28mprint\u001b[39m(\u001b[33mf\u001b[39m\u001b[33m\"\u001b[39m\u001b[38;5;132;01m{\u001b[39;00m\u001b[38;5;28mself\u001b[39m.fuel_type\u001b[38;5;132;01m}\u001b[39;00m\u001b[33m Car: Driving with fuel combustion at \u001b[39m\u001b[38;5;132;01m{\u001b[39;00m\u001b[38;5;28mself\u001b[39m.max_speed\u001b[38;5;132;01m}\u001b[39;00m\u001b[33m km/h.\u001b[39m\u001b[33m\"\u001b[39m)\n\u001b[32m---> \u001b[39m\u001b[32m21\u001b[39m demo = \u001b[43mDemoCar\u001b[49m\u001b[43m(\u001b[49m\u001b[43mmax_speed\u001b[49m\u001b[43m=\u001b[49m\u001b[32;43m10\u001b[39;49m\u001b[43m)\u001b[49m\n",
      "\u001b[31mTypeError\u001b[39m: Can't instantiate abstract class DemoCar without an implementation for abstract method 'start'"
     ]
    }
   ],
   "source": [
    "# Concrete Class: PetrolCar\n",
    "class DemoCar(Car):\n",
    "\n",
    "    def __init__(self, max_speed=220):\n",
    "        super().__init__(max_speed)\n",
    "\n",
    "    @property\n",
    "    def fuel_type(self):\n",
    "        return \"Petrol\"\n",
    "\n",
    "    # def start(self):\n",
    "    #     print(f\"{self.fuel_type} Car: Ignition started, engine running! 🚙 (Max Speed: {self.max_speed} km/h)\")\n",
    "\n",
    "    def stop(self):\n",
    "        print(f\"{self.fuel_type} Car: Engine stopped!\")\n",
    "\n",
    "    def drive(self):\n",
    "        print(f\"{self.fuel_type} Car: Driving with fuel combustion at {self.max_speed} km/h.\")\n",
    "\n",
    "\n",
    "demo = DemoCar(max_speed=10)"
   ]
  },
  {
   "cell_type": "markdown",
   "metadata": {},
   "source": [
    "**Error** - Can not create instance, becasue ```start``` method is not defined"
   ]
  },
  {
   "cell_type": "markdown",
   "metadata": {},
   "source": [
    "# POLYMORPHISM\n",
    "- **Poly** = Many  \n",
    "- **Morph** = Forms  \n",
    "\n",
    "It simply means that the **same action** can behave **differently** depending on the object it is acting on. "
   ]
  },
  {
   "cell_type": "markdown",
   "metadata": {},
   "source": [
    "Polymorphism in Python can be classified into two types:\n",
    "\n",
    "1. **Compile-time Polymorphism** (Method Overloading - Python handles it differently)\n",
    "2. **Run-time Polymorphism** (Method Overriding & Duck Typing)\n",
    "---\n",
    "\n",
    "### **Key Benefits of Polymorphism**\n",
    "- **Code Reusability**: Write a single interface that works for multiple types.\n",
    "- **Scalability**: Add new functionalities with minimal code changes.\n",
    "- **Maintainability**: Reduce complexity and improve code clarity.\n",
    "---\n"
   ]
  },
  {
   "cell_type": "markdown",
   "metadata": {},
   "source": [
    "\n",
    "\n",
    "**Simple Analogy** <br>\n",
    "Imagine you have a **TV remote**. \n",
    "- When you press the **power button** on your TV remote, it **turns ON/OFF the TV**.  \n",
    "- When you use the **same button** on your AC remote, it **turns ON/OFF the AC**.  \n",
    "Even though you’re pressing the **same button**, it behaves differently based on the device. That’s polymorphism! 🎯\n",
    "\n",
    "**In Python**\n",
    "Let’s say you have two classes: `Dog` and `Cat`. Both have a `sound()` method, but they make different sounds.\n",
    "\n",
    "```python\n",
    "class Dog:\n",
    "    def sound(self):\n",
    "        return \"Woof!\"\n",
    "\n",
    "class Cat:\n",
    "    def sound(self):\n",
    "        return \"Meow!\"\n",
    "\n",
    "# Polymorphism in action\n",
    "animals = [Dog(), Cat()]\n",
    "\n",
    "for animal in animals:\n",
    "    print(animal.sound())\n",
    "```\n",
    "Output:  \n",
    "```\n",
    "Woof!  \n",
    "Meow!  \n",
    "```\n",
    "Even though both classes have a `sound()` method, they **behave differently** based on the object type.  \n",
    "\n",
    "**Key Takeaway** <br>\n",
    "Polymorphism lets you **use the same action (method)** on different types of objects, making your code more **flexible and reusable**."
   ]
  },
  {
   "cell_type": "markdown",
   "metadata": {},
   "source": [
    "|                   | **Compile-Time Polymorphism**                      | **Runtime Polymorphism**                     |\n",
    "|-------------------|--------------------------------------------------|--------------------------------------------|\n",
    "| **Definition**    | Method overloading (same method, different args) | Method overriding (child class overrides parent method) |\n",
    "| **Binding**       | Static binding (at compile time)                 | Dynamic binding (at runtime)                |\n",
    "| **Execution**     | Resolved during compilation                      | Resolved during execution                   |\n",
    "| **Example**       | `@singledispatch`, `*args`, default args         | Method overriding, duck typing              |\n",
    "| **Support**       | Python doesn’t natively support it               | Python supports it naturally                |\n"
   ]
  },
  {
   "cell_type": "markdown",
   "metadata": {},
   "source": [
    "### Compile-Time Polymorphism in Python (**Method Overloading**)\n",
    "Compile-time polymorphism refers to the ability of a method or function to behave differently based on the number or type of arguments passed during compilation."
   ]
  },
  {
   "cell_type": "markdown",
   "metadata": {},
   "source": [
    "- Python does **NOT** natively support compile-time polymorphism because:\n",
    "- Python is **dynamically typed** (type checking happens at runtime, not compile-time).\n",
    "- Python uses **dynamic method resolution** instead of static typing, which makes it runtime-oriented.\n",
    "- Therefore, true method overloading is not possible in Python.\n",
    "\n",
    "However, you can simulate **compile-time polymorphism** using:\n",
    "\n",
    "- Default arguments\n",
    "\n",
    "- ```*args``` and ```**kwargs```\n",
    "\n",
    "- @singledispatch decorator\n",
    "\n",
    "- Function overloading with multiple dispatch\n",
    "\n"
   ]
  },
  {
   "cell_type": "markdown",
   "metadata": {},
   "source": [
    "#### Simulating Method Overloading Using Default Arguments"
   ]
  },
  {
   "cell_type": "code",
   "execution_count": 73,
   "metadata": {},
   "outputs": [
    {
     "name": "stdout",
     "output_type": "stream",
     "text": [
      "Hello Guest!\n",
      "\n",
      "Hello Alice!\n",
      "\n",
      "Hello Bob, you are 25 years old.\n"
     ]
    }
   ],
   "source": [
    "class Greet:\n",
    "    def hello(self, name=\"Guest\", age=None):\n",
    "        if age:\n",
    "            print(f\"Hello {name}, you are {age} years old.\")\n",
    "        else:\n",
    "            print(f\"Hello {name}!\")\n",
    "\n",
    "# Polymorphism in action\n",
    "g = Greet()\n",
    "g.hello()      \n",
    "print()             # Output: Hello Guest!\n",
    "g.hello(\"Alice\")            # Output: Hello Alice!\n",
    "print()\n",
    "g.hello(\"Bob\", 25)          # Output: Hello Bob, you are 25 years old."
   ]
  },
  {
   "cell_type": "markdown",
   "metadata": {},
   "source": [
    "- The hello() method behaves differently based on the number of arguments.\n",
    "- Even though it's a single method, it mimics method overloading by using default values."
   ]
  },
  {
   "cell_type": "markdown",
   "metadata": {},
   "source": [
    "#### Using ```*args``` and ```**kwargs```"
   ]
  },
  {
   "cell_type": "code",
   "execution_count": 70,
   "metadata": {},
   "outputs": [
    {
     "name": "stdout",
     "output_type": "stream",
     "text": [
      "5\n",
      "10\n",
      "10\n"
     ]
    }
   ],
   "source": [
    "class Calculator:\n",
    "    def add(self, *args):\n",
    "        return sum(args)\n",
    "\n",
    "calc = Calculator()\n",
    "print(calc.add(2, 3))           \n",
    "print(calc.add(1, 2, 3, 4))     \n",
    "print(calc.add(10))            \n"
   ]
  },
  {
   "cell_type": "markdown",
   "metadata": {},
   "source": [
    "- The add() method accepts any number of arguments using *args.\n",
    "- It behaves differently based on the number of arguments, mimicking method overloading."
   ]
  },
  {
   "cell_type": "markdown",
   "metadata": {},
   "source": [
    "#### Using ```@singledispatch``` Decorator"
   ]
  },
  {
   "cell_type": "code",
   "execution_count": null,
   "metadata": {},
   "outputs": [
    {
     "name": "stdout",
     "output_type": "stream",
     "text": [
      "Processing integer: 10\n",
      "Processing string: Hello\n",
      "Processing list: [1, 2, 3]\n",
      "Default processing\n"
     ]
    }
   ],
   "source": [
    "from functools import singledispatch\n",
    "\n",
    "@singledispatch\n",
    "def process(data):\n",
    "    print(\"Default processing\")\n",
    "\n",
    "@process.register(int)\n",
    "def _(data):\n",
    "    print(f\"Processing integer: {data}\")\n",
    "\n",
    "@process.register(str)\n",
    "def _(data):\n",
    "    print(f\"Processing string: {data}\")\n",
    "\n",
    "@process.register(list)\n",
    "def _(data):\n",
    "    print(f\"Processing list: {data}\")\n",
    "\n",
    "# Compile-time polymorphism simulation\n",
    "process(10)               \n",
    "process(\"Hello\")          \n",
    "process([1, 2, 3])        \n",
    "process(3.14)             \n"
   ]
  },
  {
   "cell_type": "markdown",
   "metadata": {},
   "source": [
    "- The process() function behaves differently based on the argument type.\n",
    "- This mimics function overloading based on types, achieving a form of compile-time polymorphism."
   ]
  },
  {
   "cell_type": "markdown",
   "metadata": {},
   "source": [
    "#### Multiple Dispatch (Third-Party Library)\n",
    "True method overloading based on argument types. ```multipledispatch``` library, which allows to define multiple versions of the same method based on types.\n",
    "\n",
    "```pip install multipledispatch```"
   ]
  },
  {
   "cell_type": "code",
   "execution_count": 76,
   "metadata": {},
   "outputs": [
    {
     "name": "stdout",
     "output_type": "stream",
     "text": [
      "Adding two integers: 15\n",
      "Adding two floats: 6.2\n",
      "Concatenating strings: Hello, World!\n"
     ]
    }
   ],
   "source": [
    "from multipledispatch import dispatch\n",
    "\n",
    "@dispatch(int, int)\n",
    "def add(a, b):\n",
    "    print(f\"Adding two integers: {a + b}\")\n",
    "\n",
    "@dispatch(float, float)\n",
    "def add(a, b):\n",
    "    print(f\"Adding two floats: {a + b}\")\n",
    "\n",
    "@dispatch(str, str)\n",
    "def add(a, b):\n",
    "    print(f\"Concatenating strings: {a + b}\")\n",
    "\n",
    "# Method overloading simulation\n",
    "add(5, 10)                 \n",
    "add(2.5, 3.7)              \n",
    "add(\"Hello, \", \"World!\")   \n"
   ]
  },
  {
   "cell_type": "markdown",
   "metadata": {},
   "source": [
    "- mimics true method overloading by dynamically dispatching the appropriate function based on the argument types.\n",
    "\n",
    "- This is the closest to compile-time polymorphism in Python."
   ]
  },
  {
   "cell_type": "markdown",
   "metadata": {},
   "source": [
    "### Runtime Polymorphism in Python (**Method Overriding**)\n",
    "refers to the ability of an object to take different forms at runtime.\n",
    "\n",
    "**In runtime polymorphism, a method in the child class overrides the method in the parent class.**\n",
    "\n",
    "Python resolves method calls at runtime based on the object type, not the reference type\n"
   ]
  },
  {
   "cell_type": "markdown",
   "metadata": {},
   "source": [
    "#### 1. Method Overriding in Python"
   ]
  },
  {
   "cell_type": "code",
   "execution_count": 71,
   "metadata": {},
   "outputs": [
    {
     "name": "stdout",
     "output_type": "stream",
     "text": [
      "Dog barks\n",
      "Cat meows\n",
      "Animals make sounds\n"
     ]
    }
   ],
   "source": [
    "# Parent class\n",
    "class Animal:\n",
    "    def sound(self):\n",
    "        print(\"Animals make sounds\")\n",
    "\n",
    "# Child classes\n",
    "class Dog(Animal):\n",
    "    def sound(self):\n",
    "        print(\"Dog barks\")\n",
    "\n",
    "class Cat(Animal):\n",
    "    def sound(self):\n",
    "        print(\"Cat meows\")\n",
    "\n",
    "# Runtime polymorphism\n",
    "def make_sound(animal):\n",
    "    animal.sound()\n",
    "\n",
    "# Different objects, same method call\n",
    "make_sound(Dog())   \n",
    "make_sound(Cat())   \n",
    "make_sound(Animal())  \n"
   ]
  },
  {
   "cell_type": "markdown",
   "metadata": {},
   "source": [
    "- The sound() method is overridden in both Dog and Cat classes.\n",
    "- When calling make_sound() with different objects, the overridden version in the child class is executed.\n",
    "- This demonstrates runtime polymorphism."
   ]
  },
  {
   "cell_type": "markdown",
   "metadata": {},
   "source": [
    "#### 2. Duck Typing (Dynamic Polymorphism)\n",
    "Python uses duck typing to achieve polymorphism.\n",
    "The term comes from the phrase:\n",
    "\n",
    "> \"If it looks like a duck, swims like a duck, and quacks like a duck, it is a duck.\"\n",
    "\n",
    "In Python, if two classes have the same method name, they can be used interchangeably, regardless of their class type."
   ]
  },
  {
   "cell_type": "code",
   "execution_count": null,
   "metadata": {},
   "outputs": [],
   "source": [
    "class Bird:\n",
    "    def fly(self):\n",
    "        print(\"Bird is flying\")\n",
    "\n",
    "class Airplane:\n",
    "    def fly(self):\n",
    "        print(\"Airplane is flying\")\n",
    "\n",
    "class Rocket:\n",
    "    def fly(self):\n",
    "        print(\"Rocket is flying\")\n",
    "\n",
    "# Using duck typing\n",
    "def start_flight(obj):\n",
    "    obj.fly()\n",
    "\n",
    "# Different objects, same method name\n",
    "start_flight(Bird())         # Output: Bird is flying\n",
    "start_flight(Airplane())     # Output: Airplane is flying\n",
    "start_flight(Rocket())       # Output: Rocket is flying\n"
   ]
  },
  {
   "cell_type": "markdown",
   "metadata": {},
   "source": [
    "#### 3. Polymorphism with Inheritance\n",
    "Achieve runtime polymorphism through inheritance. <br>\n",
    "When multiple classes inherit from the same parent class, they can override the parent’s methods."
   ]
  },
  {
   "cell_type": "code",
   "execution_count": null,
   "metadata": {},
   "outputs": [],
   "source": [
    "class Shape:\n",
    "    def area(self):\n",
    "        print(\"Calculating area\")\n",
    "\n",
    "class Circle(Shape):\n",
    "    def area(self):\n",
    "        print(\"Area of Circle = π × r²\")\n",
    "\n",
    "class Rectangle(Shape):\n",
    "    def area(self):\n",
    "        print(\"Area of Rectangle = length × breadth\")\n",
    "\n",
    "# Runtime polymorphism\n",
    "def display_area(shape):\n",
    "    shape.area()\n",
    "\n",
    "# Calling the overridden methods\n",
    "display_area(Circle())       # Output: Area of Circle = π × r²\n",
    "display_area(Rectangle())    # Output: Area of Rectangle = length × breadth\n"
   ]
  },
  {
   "cell_type": "markdown",
   "metadata": {},
   "source": [
    "# INHERITANCE\n",
    "Allows a class (subclass or child class) to acquire the properties and behaviors of another class (superclass or parent class).\n",
    "\n",
    "The child class can:\n",
    "- Use the attributes and methods of the parent class\n",
    "- Override parent class methods to provide a specific implementation\n",
    "- Add its own additional attributes and methods\n",
    "\n",
    "Type of Inheritance:\n",
    "- Single Inheritance\n",
    "- Multilevel Inheritance\n",
    "- Hierarchical Inheritance\n",
    "- Multilevel Inheritance"
   ]
  },
  {
   "cell_type": "markdown",
   "metadata": {},
   "source": [
    "#### Single Inheritance"
   ]
  },
  {
   "cell_type": "code",
   "execution_count": null,
   "metadata": {},
   "outputs": [],
   "source": [
    "class Parent:\n",
    "    def show(self):\n",
    "        print(\"This is the parent class\")\n",
    "\n",
    "class Child(Parent):\n",
    "    def display(self):\n",
    "        print(\"This is the child class\")"
   ]
  },
  {
   "cell_type": "markdown",
   "metadata": {},
   "source": [
    "####  Multilevel Inheritance"
   ]
  },
  {
   "cell_type": "code",
   "execution_count": null,
   "metadata": {},
   "outputs": [],
   "source": [
    "class Grandparent:\n",
    "    def show(self):\n",
    "        print(\"Grandparent class\")\n",
    "\n",
    "class Parent(Grandparent):\n",
    "    def display(self):\n",
    "        print(\"Parent class\")\n",
    "\n",
    "class Child(Parent):\n",
    "    def print_info(self):\n",
    "        print(\"Child class\")"
   ]
  },
  {
   "cell_type": "markdown",
   "metadata": {},
   "source": [
    "#### Hierarchical Inheritance"
   ]
  },
  {
   "cell_type": "code",
   "execution_count": null,
   "metadata": {},
   "outputs": [],
   "source": [
    "class Parent:\n",
    "    def show(self):\n",
    "        print(\"Parent class\")\n",
    "\n",
    "class Child1(Parent):\n",
    "    def display(self):\n",
    "        print(\"Child1 class\")\n",
    "\n",
    "class Child2(Parent):\n",
    "    def print_info(self):\n",
    "        print(\"Child2 class\")"
   ]
  },
  {
   "cell_type": "markdown",
   "metadata": {},
   "source": [
    "#### Multiple Inheritance"
   ]
  },
  {
   "cell_type": "code",
   "execution_count": null,
   "metadata": {},
   "outputs": [],
   "source": [
    "class Parent1:\n",
    "    def show1(self):\n",
    "        print(\"Parent1 class\")\n",
    "\n",
    "class Parent2:\n",
    "    def show2(self):\n",
    "        print(\"Parent2 class\")\n",
    "\n",
    "class Child(Parent1, Parent2):\n",
    "    def display(self):\n",
    "        print(\"Child class\")"
   ]
  }
 ],
 "metadata": {
  "kernelspec": {
   "display_name": "env",
   "language": "python",
   "name": "python3"
  },
  "language_info": {
   "codemirror_mode": {
    "name": "ipython",
    "version": 3
   },
   "file_extension": ".py",
   "mimetype": "text/x-python",
   "name": "python",
   "nbconvert_exporter": "python",
   "pygments_lexer": "ipython3",
   "version": "3.12.9"
  }
 },
 "nbformat": 4,
 "nbformat_minor": 2
}
